{
 "cells": [
  {
   "cell_type": "markdown",
   "id": "35d428c2-6572-456a-8ace-0eed98ee65e0",
   "metadata": {},
   "source": [
    "# Abstract\n",
    "The purpose of this lab is to use regression to predict house prices using the dataset house_prices. I use two regression models, Linear Regression and Ridge Regression. I then select the most efficient model, based off of R-squared values, MAE, and RMSE for both.\n",
    "\n",
    "# Introduction\n",
    "The problem at hand is using features related to house price such as carpet area, car parking availability, and bathroom count to accurately predict housing prices in India. We can use the dataset to analyze and predict housing market trends in order to aid those interested in purchasing homes in the country.\n",
    "\n",
    "# Related Work\n",
    "The work in this lab is based off of Chapter 2 of Machine Learning using Python by Professor Itauma. I follow his steps for guidance in performing linear and logistic regression, and use MSE, RMSE, and R-squared to assess performance as referenced in the chapter. I also reference the LinkedIn Learning course \"Machine Learning with Scikit-Learn\" for data preprocessing and other coding."
   ]
  },
  {
   "cell_type": "markdown",
   "id": "4093b499-fff8-40c5-99c5-ba61955ae492",
   "metadata": {},
   "source": [
    "# Methodology\n",
    "\n",
    "## Data Preprocessing"
   ]
  },
  {
   "cell_type": "code",
   "execution_count": null,
   "id": "a6e1df31-ec0f-4ff6-a5f9-1d5d65871be4",
   "metadata": {},
   "outputs": [],
   "source": [
    "import numpy as np\n",
    "import pandas as pd"
   ]
  },
  {
   "cell_type": "code",
   "execution_count": null,
   "id": "4dbd8311-52e8-4d92-8ae0-40458c9fe4fc",
   "metadata": {},
   "outputs": [],
   "source": [
    "df = pd.read_csv(\"house_prices.csv\") ## loading dataset"
   ]
  },
  {
   "cell_type": "code",
   "execution_count": null,
   "id": "0f2461c8-f2ff-4daf-95b5-88101bbc91c2",
   "metadata": {},
   "outputs": [],
   "source": [
    "df.head() ## view data"
   ]
  },
  {
   "cell_type": "code",
   "execution_count": null,
   "id": "6fb68ed7-500c-447c-a05e-fb6af1ad0bcf",
   "metadata": {},
   "outputs": [],
   "source": [
    "df.shape\n",
    "df.info()"
   ]
  },
  {
   "cell_type": "code",
   "execution_count": null,
   "id": "949e4b22-defd-4f34-94e8-f6d34b4a9b08",
   "metadata": {},
   "outputs": [],
   "source": [
    "df.isnull().sum() ## look at number of missing entries in each column"
   ]
  },
  {
   "cell_type": "markdown",
   "id": "9298640e-1f9b-498d-81f4-8a44cf729d6a",
   "metadata": {},
   "source": [
    "Since there are multiple columns with a large number of missing values, we will remove those with more than 100,000 missing values from the dataset. We will also remove the \"index\" column since it will not be used."
   ]
  },
  {
   "cell_type": "code",
   "execution_count": null,
   "id": "4011692c-e068-4573-9357-fbe9b3a076e8",
   "metadata": {},
   "outputs": [],
   "source": [
    "df.drop(columns=['Index', 'Society', 'Car Parking', 'Super Area', 'Dimensions', 'Plot Area'], inplace = True)"
   ]
  },
  {
   "cell_type": "markdown",
   "id": "89e3fc5f-c166-48e7-b5c8-52654e0e6ca1",
   "metadata": {},
   "source": [
    "Next, we will replace the missing values in the text column \"Description\" with \"N/A\". "
   ]
  },
  {
   "cell_type": "code",
   "execution_count": null,
   "id": "3c8e88fd-f3e2-4f26-9800-bf54af380958",
   "metadata": {},
   "outputs": [],
   "source": [
    "df_text = ['Description']\n",
    "df[df_text] = df[df_text].fillna(\"N/A\")"
   ]
  },
  {
   "cell_type": "markdown",
   "id": "d6f7579c-8a08-40ec-88ac-fa7631f33211",
   "metadata": {},
   "source": [
    "We will impute the missing values for categorical columns with the mode."
   ]
  },
  {
   "cell_type": "code",
   "execution_count": null,
   "id": "4ff36a06-fb13-4feb-881f-6d9601c17ce2",
   "metadata": {},
   "outputs": [],
   "source": [
    "df_categorical = ['Status', 'Transaction', 'Furnishing', 'facing', 'overlooking', 'Ownership']\n",
    "for col in df_categorical:\n",
    "    mode_col = df[col].mode().iloc[0]\n",
    "    df[col] = df[col].fillna(mode_col)"
   ]
  },
  {
   "cell_type": "markdown",
   "id": "16b129a7-106a-4db4-b3bd-1b0763894a11",
   "metadata": {},
   "source": [
    "For the numeric columns, we will impute the missing values using the mean price."
   ]
  },
  {
   "cell_type": "code",
   "execution_count": null,
   "id": "890b1afb-94db-4347-bbc8-f08bb9ee7727",
   "metadata": {},
   "outputs": [],
   "source": [
    "mean_price = df['Price (in rupees)'].mean()\n",
    "df['Price (in rupees)'] = df['Price (in rupees)'].fillna(mean_price)"
   ]
  },
  {
   "cell_type": "code",
   "execution_count": null,
   "id": "845f5e8d-62cb-4fb8-8f39-8063b2db3e77",
   "metadata": {},
   "outputs": [],
   "source": [
    "## setting >10 to 11 for the sake of imputation\n",
    "df.loc[df['Bathroom'] == '> 10', 'Bathroom'] = 11\n",
    "df.loc[df['Balcony'] == '> 10', 'Balcony'] = 11 \n",
    "\n",
    "## converting bathroom and balcony to numeric\n",
    "df['Bathroom'] = pd.to_numeric(df['Bathroom'], errors = 'coerce')\n",
    "df['Balcony'] = pd.to_numeric(df['Balcony'], errors = 'coerce')\n",
    "\n",
    "#imputing\n",
    "mean_bathroom = round(df['Bathroom'].mean())\n",
    "df['Bathroom'] = df['Bathroom'].fillna(mean_bathroom)\n",
    "\n",
    "mean_balcony = round(df['Balcony'].mean())\n",
    "df['Balcony'] = df['Balcony'].fillna(mean_balcony)"
   ]
  },
  {
   "cell_type": "code",
   "execution_count": null,
   "id": "59b399e0-0c63-43b5-84b4-a46e616fb7b1",
   "metadata": {},
   "outputs": [],
   "source": [
    "## converting carpet areas to same unit and numeric\n",
    "def as_sqft(area):\n",
    "     if pd.notnull(area):\n",
    "        if 'sqft' in area:\n",
    "            area = float(area.replace(' sqft', ''))\n",
    "        elif 'kanal' in area:\n",
    "            area = float(area.replace(' kanal', '')) * 5445\n",
    "        elif 'marla' in area:\n",
    "            area = float(area.replace(' marla', '')) * 272.251\n",
    "        elif 'bigha' in area:\n",
    "            area = float(area.replace(' bigha', '')) * 27000\n",
    "        elif 'cent' in area:\n",
    "            area = float(area.replace(' cent', '')) * 435.56\n",
    "        elif 'ground' in area:\n",
    "            area = float(area.replace(' ground', '')) * 2400.35\n",
    "        elif 'acre' in area:\n",
    "            area = float(area.replace(' acre', '')) * 43560\n",
    "        elif 'sqyrd' in area:\n",
    "            area = float(area.replace(' sqyrd', '')) * 9\n",
    "        else:\n",
    "            area = float(area.replace(' sqm', '')) * 10.764\n",
    "        return area"
   ]
  },
  {
   "cell_type": "code",
   "execution_count": null,
   "id": "ecf22a4a-63cc-4b8e-977b-175bde7dac11",
   "metadata": {},
   "outputs": [],
   "source": [
    "df['Carpet Area'] = df['Carpet Area'].apply(as_sqft)"
   ]
  },
  {
   "cell_type": "code",
   "execution_count": null,
   "id": "2d8a92e1-b874-4c2f-b988-238002648829",
   "metadata": {},
   "outputs": [],
   "source": [
    "mean_carpet = df['Carpet Area'].mean()\n",
    "df['Carpet Area'] = df['Carpet Area'].fillna(mean_carpet)"
   ]
  },
  {
   "cell_type": "markdown",
   "id": "5fdc2491-e690-4687-84fb-f814f4047cbc",
   "metadata": {},
   "source": [
    "Finally, we will impute the floor with the mode."
   ]
  },
  {
   "cell_type": "code",
   "execution_count": null,
   "id": "ee080056-ba3e-43d2-a7d7-019c0d451a7d",
   "metadata": {},
   "outputs": [],
   "source": [
    "mode_floor = df['Floor'].mode().iloc[0]\n",
    "df['Floor'] = df['Floor'].fillna(mode_floor)"
   ]
  },
  {
   "cell_type": "code",
   "execution_count": null,
   "id": "bd6d9846-7dc2-4b01-9a2d-2455531bb183",
   "metadata": {},
   "outputs": [],
   "source": [
    "df.isnull().sum() ## final check to ensure that all missing values have been imputed."
   ]
  },
  {
   "cell_type": "markdown",
   "id": "3c086227-9ead-4221-916b-ace0c551a935",
   "metadata": {},
   "source": [
    "Since our explanatory variable \"Amount (In Rupees)\" is not numeric, we will convert it, and remove the rows with non-numeric values."
   ]
  },
  {
   "cell_type": "code",
   "execution_count": null,
   "id": "d08975e3-8490-4aa8-aa0b-c9b6e0cf7510",
   "metadata": {},
   "outputs": [],
   "source": [
    "df = df[df['Amount(in rupees)'] != \"Call for Price\"]"
   ]
  },
  {
   "cell_type": "code",
   "execution_count": null,
   "id": "60b9e97f-99ab-4951-a121-af0f7fb34661",
   "metadata": {},
   "outputs": [],
   "source": [
    "def as_rupee(amount):\n",
    "    if 'Lac' in amount:\n",
    "        amount = float(amount.replace('Lac', '')) * 100000 \n",
    "    else:\n",
    "        amount = float(amount.replace('Cr', '')) * 10000000 \n",
    "    return amount"
   ]
  },
  {
   "cell_type": "code",
   "execution_count": null,
   "id": "6fb240e0-56bc-49e9-b564-773f2f3cd5f5",
   "metadata": {},
   "outputs": [],
   "source": [
    "df['Amount(in rupees)'] = df['Amount(in rupees)'].apply(as_rupee)"
   ]
  },
  {
   "cell_type": "markdown",
   "id": "0f48a550-e510-42fd-bd91-0c4fee80d070",
   "metadata": {},
   "source": [
    "We will remove all duplicate rows."
   ]
  },
  {
   "cell_type": "code",
   "execution_count": null,
   "id": "42ffb602-24f2-45d8-93b1-7f338abbbdc2",
   "metadata": {},
   "outputs": [],
   "source": [
    "df = df.drop_duplicates()"
   ]
  },
  {
   "cell_type": "code",
   "execution_count": null,
   "id": "31431f60-aba7-4195-984d-f4fc04658a4c",
   "metadata": {},
   "outputs": [],
   "source": [
    "df.index = range(len(df)) ## reindex"
   ]
  },
  {
   "cell_type": "markdown",
   "id": "6659df01-b9e0-42ab-b164-fae62fedf4e7",
   "metadata": {},
   "source": [
    "Finally, we will remove outliers from the numeric columns using the IQR method."
   ]
  },
  {
   "cell_type": "code",
   "execution_count": null,
   "id": "49d58467-fbc7-4a60-9271-f336535f871b",
   "metadata": {},
   "outputs": [],
   "source": [
    "# Carpet Area\n",
    "Q1 = df['Carpet Area'].quantile(0.25)\n",
    "Q3 = df['Carpet Area'].quantile(0.75)\n",
    "IQR = Q3 - Q1\n",
    "lower = Q1 - 1.5*IQR\n",
    "upper = Q3 + 1.5*IQR\n",
    "\n",
    "upper_array = np.where(df['Carpet Area'] >= upper)[0]\n",
    "lower_array = np.where(df['Carpet Area'] <= lower)[0]\n",
    "\n",
    "df = df.drop(index=upper_array)\n",
    "df = df.drop(index=lower_array)"
   ]
  },
  {
   "cell_type": "code",
   "execution_count": null,
   "id": "9c134d85-fa5d-4f32-8264-9290ccb4fb99",
   "metadata": {},
   "outputs": [],
   "source": [
    "df.index = range(len(df)) ## reindex"
   ]
  },
  {
   "cell_type": "code",
   "execution_count": null,
   "id": "16ce209c-bd0b-41fc-b1a4-ccd402d5eaf4",
   "metadata": {},
   "outputs": [],
   "source": [
    "# Price (in rupees)\n",
    "Q1 = df['Price (in rupees)'].quantile(0.25)\n",
    "Q3 = df['Price (in rupees)'].quantile(0.75)\n",
    "IQR = Q3 - Q1\n",
    "lower = Q1 - 1.5*IQR\n",
    "upper = Q3 + 1.5*IQR\n",
    "\n",
    "upper_array = np.where(df['Price (in rupees)'] >= upper)[0]\n",
    "lower_array = np.where(df['Price (in rupees)'] <= lower)[0]\n",
    "\n",
    "df = df.drop(index=upper_array)\n",
    "df = df.drop(index=lower_array)"
   ]
  },
  {
   "cell_type": "code",
   "execution_count": null,
   "id": "8511ad5b-d2b3-4d90-9d97-e3cfb5354828",
   "metadata": {},
   "outputs": [],
   "source": [
    "df.index = range(len(df)) ## reindex"
   ]
  },
  {
   "cell_type": "code",
   "execution_count": null,
   "id": "0a6fd4c5-e7cb-407b-a8d1-928424b6a31a",
   "metadata": {},
   "outputs": [],
   "source": [
    "# Price (in rupees)\n",
    "Q1 = df['Amount(in rupees)'].quantile(0.25)\n",
    "Q3 = df['Amount(in rupees)'].quantile(0.75)\n",
    "IQR = Q3 - Q1\n",
    "lower = Q1 - 1.5*IQR\n",
    "upper = Q3 + 1.5*IQR\n",
    "\n",
    "upper_array = np.where(df['Amount(in rupees)'] >= upper)[0]\n",
    "lower_array = np.where(df['Amount(in rupees)'] <= lower)[0]\n",
    "\n",
    "df = df.drop(index=upper_array)\n",
    "df = df.drop(index=lower_array)"
   ]
  },
  {
   "cell_type": "code",
   "execution_count": null,
   "id": "4e0deea9-587d-48dc-bb4d-ee62db2ae89b",
   "metadata": {},
   "outputs": [],
   "source": [
    "df.index = range(len(df)) ## reindex"
   ]
  },
  {
   "cell_type": "code",
   "execution_count": null,
   "id": "efec5936-f836-43b7-b5b3-27ccb5241d26",
   "metadata": {
    "scrolled": true
   },
   "outputs": [],
   "source": [
    "df.info() ## the final dataset\n",
    "df.describe()"
   ]
  },
  {
   "cell_type": "markdown",
   "id": "2890c57d-475a-4587-acea-f9112de6d3f4",
   "metadata": {},
   "source": [
    "## Exploratory Data Analysis"
   ]
  },
  {
   "cell_type": "code",
   "execution_count": null,
   "id": "32e9067f-ea8e-4766-8135-3903798a4973",
   "metadata": {},
   "outputs": [],
   "source": [
    "import plotly.express as px"
   ]
  },
  {
   "cell_type": "markdown",
   "id": "33216775-2c0d-4022-b200-4a159fc0a5f7",
   "metadata": {},
   "source": [
    "### Categorical Variables"
   ]
  },
  {
   "cell_type": "code",
   "execution_count": null,
   "id": "e5dcbf8d-e9d7-4e50-875d-1a904107481c",
   "metadata": {},
   "outputs": [],
   "source": [
    "px.histogram(df, x =\"location\")"
   ]
  },
  {
   "cell_type": "markdown",
   "id": "1bb9f485-9b4d-405d-ab9e-b256ce215f7c",
   "metadata": {},
   "source": [
    "![location](location.png)"
   ]
  },
  {
   "cell_type": "markdown",
   "id": "eac694f2-b9ae-4e0a-80a2-0e8e63ec6786",
   "metadata": {},
   "source": [
    "There does not appear to be a particularly popular location for housing in India."
   ]
  },
  {
   "cell_type": "code",
   "execution_count": null,
   "id": "59295407-c422-426b-93e4-92329502d82c",
   "metadata": {},
   "outputs": [],
   "source": [
    "px.pie(df, names = \"Transaction\")"
   ]
  },
  {
   "cell_type": "markdown",
   "id": "90b6016a-3de6-445a-bca3-c007f92500bf",
   "metadata": {},
   "source": [
    "![transaction](transaction.png)"
   ]
  },
  {
   "cell_type": "markdown",
   "id": "1ce6e613-db8f-45f8-a5b9-700ec24eafff",
   "metadata": {},
   "source": [
    "It seems that the majority of the houses are being resold."
   ]
  },
  {
   "cell_type": "code",
   "execution_count": null,
   "id": "aed93c26-72fc-4969-89b7-66969df71bc8",
   "metadata": {},
   "outputs": [],
   "source": [
    "px.pie(df, names = \"Furnishing\")"
   ]
  },
  {
   "cell_type": "markdown",
   "id": "a4b5571f-62b1-461c-9353-5aaf6e24dd20",
   "metadata": {},
   "source": [
    "![furnishing](furnishing.png)"
   ]
  },
  {
   "cell_type": "markdown",
   "id": "a41f79d2-457c-4026-afa5-1a92ac730272",
   "metadata": {},
   "source": [
    "The houses seem evenly divided between semi-furnished and unfurnished, with there being only 13.2% of furnished homes in the dataset."
   ]
  },
  {
   "cell_type": "code",
   "execution_count": null,
   "id": "69b39e31-26da-4882-8769-51a0bb047ede",
   "metadata": {},
   "outputs": [],
   "source": [
    "px.pie(df, names = \"facing\")"
   ]
  },
  {
   "cell_type": "markdown",
   "id": "26637871-d436-4cd1-8674-9749c91ecffe",
   "metadata": {},
   "source": [
    "![facing](facing.png)"
   ]
  },
  {
   "cell_type": "markdown",
   "id": "05fc5f5c-ed05-4401-b45e-fbf799db1b8e",
   "metadata": {},
   "source": [
    "It is really interesting to note that the majority of the houses face East."
   ]
  },
  {
   "cell_type": "code",
   "execution_count": null,
   "id": "5120d427-40b2-4e99-8c62-3b39c7e8af96",
   "metadata": {},
   "outputs": [],
   "source": [
    "px.histogram(df, x = \"overlooking\")"
   ]
  },
  {
   "cell_type": "markdown",
   "id": "f49ba822-8053-4565-a8e7-2e220055caf8",
   "metadata": {},
   "source": [
    "![overlooking](overlooking.png)"
   ]
  },
  {
   "cell_type": "markdown",
   "id": "dfac263a-3beb-4d77-b239-b99d52aef63c",
   "metadata": {},
   "source": [
    "It seems that most houses overlook the main road of the house, which is to be expected."
   ]
  },
  {
   "cell_type": "code",
   "execution_count": null,
   "id": "6a16fb80-770a-44ea-ab00-c2781b870cf4",
   "metadata": {},
   "outputs": [],
   "source": [
    "px.pie(df, names = \"Ownership\")"
   ]
  },
  {
   "cell_type": "markdown",
   "id": "86e6ce9f-5df7-4ecf-90e2-819068e3c044",
   "metadata": {},
   "source": [
    "![ownership](ownership.png)"
   ]
  },
  {
   "cell_type": "markdown",
   "id": "3fbea33f-a513-4092-ac07-cd8fd08f46ce",
   "metadata": {},
   "source": [
    "The majority of the houses in the dataset are under freehold."
   ]
  },
  {
   "cell_type": "markdown",
   "id": "ae09078b-79dc-4531-b0c1-50cbc8e8100f",
   "metadata": {},
   "source": [
    "![ownership](ownership.png)"
   ]
  },
  {
   "cell_type": "code",
   "execution_count": null,
   "id": "eaba0aa4-2b6b-47b7-9251-0537a7792911",
   "metadata": {},
   "outputs": [],
   "source": [
    "px.histogram(df, x = \"Bathroom\")"
   ]
  },
  {
   "cell_type": "markdown",
   "id": "97b29f46-fde3-496f-a90a-1abb4b73de0e",
   "metadata": {},
   "source": [
    "![bathroom](bathroom.png)"
   ]
  },
  {
   "cell_type": "markdown",
   "id": "124fe1a2-4111-49d0-8560-51f774a6420f",
   "metadata": {},
   "source": [
    "Most of the houses have 2 bathrooms, with the next most being 3."
   ]
  },
  {
   "cell_type": "code",
   "execution_count": null,
   "id": "bf2eda55-46d3-47b5-b412-2091a8fbcefb",
   "metadata": {},
   "outputs": [],
   "source": [
    "px.histogram(df, x = \"Balcony\")"
   ]
  },
  {
   "cell_type": "markdown",
   "id": "f376a7da-ee90-4ecc-af35-f89e48f71ca1",
   "metadata": {},
   "source": [
    "![balcony](balcony.png)"
   ]
  },
  {
   "cell_type": "markdown",
   "id": "9c1c0f53-77ab-4005-9d8f-ccaaa0dfaba8",
   "metadata": {},
   "source": [
    "You see the same trend as bathrooms with most houses having 2, but the next most popular is 1."
   ]
  },
  {
   "cell_type": "markdown",
   "id": "e1d7f199-5e96-46a4-9d98-3d051dd144aa",
   "metadata": {},
   "source": [
    "### Numeric Variables"
   ]
  },
  {
   "cell_type": "code",
   "execution_count": null,
   "id": "c8f03069-5fe2-44dc-a89e-afcf4a0b3a80",
   "metadata": {},
   "outputs": [],
   "source": [
    "px.box(df, x = \"Amount(in rupees)\")"
   ]
  },
  {
   "cell_type": "markdown",
   "id": "b93c8398-5a49-4b47-8610-ca27286fdee0",
   "metadata": {},
   "source": [
    "![amount](amount.png)"
   ]
  },
  {
   "cell_type": "markdown",
   "id": "e71a2bd2-5c7f-4a55-a873-7092cbd97924",
   "metadata": {},
   "source": [
    "It seems the median housing price in the dataset is 5.8 million Rupees."
   ]
  },
  {
   "cell_type": "code",
   "execution_count": null,
   "id": "316f50bf-c58b-4f92-958a-484a8244dd5d",
   "metadata": {},
   "outputs": [],
   "source": [
    "px.box(df, x = \"Price (in rupees)\")"
   ]
  },
  {
   "cell_type": "markdown",
   "id": "d7d342ab-0b3b-4496-b772-e23f538f14ab",
   "metadata": {},
   "source": [
    "![price](price.png)"
   ]
  },
  {
   "cell_type": "markdown",
   "id": "c1927f1f-71fc-4125-9a73-207a4b7f3567",
   "metadata": {},
   "source": [
    "The median price per square foot is 4837 Rupees."
   ]
  },
  {
   "cell_type": "code",
   "execution_count": null,
   "id": "635d01cf-1b28-4724-be03-1bc61cbad6c6",
   "metadata": {},
   "outputs": [],
   "source": [
    "px.box(df, x = \"Carpet Area\")"
   ]
  },
  {
   "cell_type": "markdown",
   "id": "c17c9371-a3ae-4970-8eef-3db1b845a2b9",
   "metadata": {},
   "source": [
    "![carpet_area](carpetarea.png)"
   ]
  },
  {
   "cell_type": "markdown",
   "id": "36b0a220-2563-49e8-874e-f17051d5a482",
   "metadata": {},
   "source": [
    "The median carpet area for homes in the dataset is 1700 sqft."
   ]
  },
  {
   "cell_type": "markdown",
   "id": "b5641625-194d-4cff-86f3-a4ecf974ae4e",
   "metadata": {},
   "source": [
    "### Correlations"
   ]
  },
  {
   "cell_type": "code",
   "execution_count": null,
   "id": "744eda81-9414-4b60-9a12-d7bc36b1af52",
   "metadata": {
    "scrolled": true
   },
   "outputs": [],
   "source": [
    "px.scatter_matrix(df,\n",
    "                  dimensions = [\"Amount(in rupees)\", \"Price (in rupees)\", \"Carpet Area\"],\n",
    "                  width=800, height=800) ## pair plot of the three numeric variables"
   ]
  },
  {
   "cell_type": "markdown",
   "id": "c229695b-ce81-408d-b3b1-fd82d2bb9e29",
   "metadata": {},
   "source": [
    "![corr1](corr1.png)"
   ]
  },
  {
   "cell_type": "code",
   "execution_count": null,
   "id": "3378e8be-f530-4cef-b01a-f31f47062b8d",
   "metadata": {},
   "outputs": [],
   "source": [
    "px.scatter_matrix(df,\n",
    "                  dimensions = [\"Amount(in rupees)\", \"Bathroom\", \"Balcony\"],\n",
    "                  width=800, height=800) ## pair plot of the two categorical variables that contain numbers"
   ]
  },
  {
   "cell_type": "markdown",
   "id": "79fa5daa-a278-4c8a-ad79-2136a0abc86b",
   "metadata": {},
   "source": [
    "![corr2](corr2.png)"
   ]
  },
  {
   "cell_type": "markdown",
   "id": "c39c164c-3a18-42cc-8548-04f3ee6221f4",
   "metadata": {},
   "source": [
    "There appears to be a slightly positive correlation between our explanatory variable, amount in Rupees, and carpet area and price in Rupees, but not between amount and number of bathrooms and balconies."
   ]
  },
  {
   "cell_type": "markdown",
   "id": "ac25fac8-d6cc-4029-95c0-d6253d7bc8e8",
   "metadata": {},
   "source": [
    "## Regression Models"
   ]
  },
  {
   "cell_type": "markdown",
   "id": "59c446fb-b4c4-46dc-8c1d-c01d1d4d090f",
   "metadata": {},
   "source": [
    "Since Title and Description are pure text-based fields, we cannot perform regression using them; thus, we will drop the fields. Also, since Status contains only one category, we will drop the field from regression."
   ]
  },
  {
   "cell_type": "code",
   "execution_count": null,
   "id": "a9747d3e-1dd0-46ef-92d7-394298481a3b",
   "metadata": {},
   "outputs": [],
   "source": [
    "df = df.drop(columns=['Title','Description','Status'])"
   ]
  },
  {
   "cell_type": "markdown",
   "id": "dcb613ea-e761-4bb7-9477-6d8e39ce32f9",
   "metadata": {},
   "source": [
    "We will now encode the categorical variables."
   ]
  },
  {
   "cell_type": "code",
   "execution_count": null,
   "id": "0b75cac7-d461-4929-ba66-de9bc7c878a8",
   "metadata": {},
   "outputs": [],
   "source": [
    "from sklearn.preprocessing import LabelEncoder\n",
    "le = LabelEncoder()"
   ]
  },
  {
   "cell_type": "code",
   "execution_count": null,
   "id": "20003060-b59d-47e0-836c-b1f3732e470a",
   "metadata": {},
   "outputs": [],
   "source": [
    "df['location'] = le.fit_transform(df['location'])\n",
    "df['Transaction'] = le.fit_transform(df['Transaction'])\n",
    "df['Floor'] = le.fit_transform(df['Floor'])\n",
    "df['Furnishing'] = le.fit_transform(df['Furnishing'])\n",
    "df['facing'] = le.fit_transform(df['facing'])\n",
    "df['overlooking'] = le.fit_transform(df['overlooking'])\n",
    "df['Ownership'] = le.fit_transform(df['Ownership'])"
   ]
  },
  {
   "cell_type": "markdown",
   "id": "759d925c-9617-4698-a94d-97e59ffe872a",
   "metadata": {},
   "source": [
    "To prepare for regression, we standardize the data."
   ]
  },
  {
   "cell_type": "code",
   "execution_count": null,
   "id": "94321502-b3e8-4fe1-9359-83eb2271b174",
   "metadata": {},
   "outputs": [],
   "source": [
    "from sklearn.preprocessing import StandardScaler\n",
    "standard_scaler = StandardScaler()"
   ]
  },
  {
   "cell_type": "code",
   "execution_count": null,
   "id": "144e643f-e41d-49a2-8b73-90d961289809",
   "metadata": {},
   "outputs": [],
   "source": [
    "df_standardized = standard_scaler.fit_transform(df)\n",
    "df = pd.DataFrame(df_standardized, columns=df.columns)"
   ]
  },
  {
   "cell_type": "markdown",
   "id": "870da17a-b641-4f50-88d0-3b68dee2f819",
   "metadata": {},
   "source": [
    "In the final step before performing the regression models, we will split the data into testing and training sets. We will use the random seed 42 for reproducibility."
   ]
  },
  {
   "cell_type": "code",
   "execution_count": null,
   "id": "81494cca-98fb-460c-b9b5-7b4209ae2a3f",
   "metadata": {},
   "outputs": [],
   "source": [
    "X = df.drop(columns=['Amount(in rupees)'])\n",
    "y = df['Amount(in rupees)']"
   ]
  },
  {
   "cell_type": "code",
   "execution_count": null,
   "id": "bbd78445-d14f-4f64-a958-8602e1f663db",
   "metadata": {},
   "outputs": [],
   "source": [
    "from sklearn.model_selection import train_test_split\n",
    "X_train, X_test, y_train, y_test = train_test_split(X, y, test_size=0.2, random_state=42)"
   ]
  },
  {
   "cell_type": "markdown",
   "id": "6fc05d9e-a1c0-455c-9e8f-cd22e266f1ea",
   "metadata": {},
   "source": [
    "### Method 1. Linear Regression"
   ]
  },
  {
   "cell_type": "code",
   "execution_count": null,
   "id": "7e246fa5-f75c-4a8b-82b2-26ed09af0ec4",
   "metadata": {},
   "outputs": [],
   "source": [
    "from sklearn.linear_model import LinearRegression"
   ]
  },
  {
   "cell_type": "code",
   "execution_count": null,
   "id": "f0a1409a-553e-46f0-a771-5cade4443f79",
   "metadata": {},
   "outputs": [],
   "source": [
    "reg = LinearRegression(fit_intercept=True)\n",
    "reg.fit(X_train, y_train)"
   ]
  },
  {
   "cell_type": "code",
   "execution_count": null,
   "id": "41b4cada-010d-41a6-b322-b0cc2cc160b5",
   "metadata": {},
   "outputs": [],
   "source": [
    "y_pred = reg.predict(X_test)"
   ]
  },
  {
   "cell_type": "markdown",
   "id": "d99cd5d6-ec90-4fde-ae94-56132a1461e2",
   "metadata": {},
   "source": [
    "### Method 2. Ridge Regression"
   ]
  },
  {
   "cell_type": "code",
   "execution_count": null,
   "id": "acec0a57-6540-4c03-9d24-00ce39722c48",
   "metadata": {},
   "outputs": [],
   "source": [
    "from sklearn.linear_model import Ridge"
   ]
  },
  {
   "cell_type": "code",
   "execution_count": null,
   "id": "ab954cf1-d2ea-430b-a40d-47a67d6ad0ab",
   "metadata": {},
   "outputs": [],
   "source": [
    "clf = Ridge(alpha=1.0)\n",
    "clf.fit(X_train, y_train)"
   ]
  },
  {
   "cell_type": "markdown",
   "id": "680597ec-de88-4436-a621-fd1ae188142d",
   "metadata": {},
   "source": [
    "# Results"
   ]
  },
  {
   "cell_type": "code",
   "execution_count": null,
   "id": "3adc70e9-ebf8-48d3-8a72-62c4966c7fb5",
   "metadata": {},
   "outputs": [],
   "source": [
    "from sklearn.metrics import r2_score, mean_absolute_error, mean_squared_error"
   ]
  },
  {
   "cell_type": "code",
   "execution_count": null,
   "id": "9668df35-dc16-458d-8053-b66ef6ea1a47",
   "metadata": {},
   "outputs": [],
   "source": [
    "r_squared = r2_score(y_test, y_pred)\n",
    "print(\"The R-squared for linear regression is\", r_squared)"
   ]
  },
  {
   "cell_type": "code",
   "execution_count": null,
   "id": "4038b07d-b11d-4f32-baeb-5eaeed2c5cff",
   "metadata": {},
   "outputs": [],
   "source": [
    "mae = mean_absolute_error(y_test, y_pred)\n",
    "print(\"The MAE for linear regression is\", mae)"
   ]
  },
  {
   "cell_type": "code",
   "execution_count": null,
   "id": "83a6f4df-789c-430d-b084-7b276ad26367",
   "metadata": {},
   "outputs": [],
   "source": [
    "rmse = np.sqrt(mean_squared_error(y_test, y_pred))\n",
    "print(\"The RMSE for linear regression is\", rmse)"
   ]
  },
  {
   "cell_type": "code",
   "execution_count": null,
   "id": "b0c7b8db-5112-4662-901a-66216d00f8fd",
   "metadata": {},
   "outputs": [],
   "source": [
    "y_pred_ridge = clf.predict(X_test)"
   ]
  },
  {
   "cell_type": "code",
   "execution_count": null,
   "id": "9cbb7063-9c25-40e6-b21a-7842c85bfce8",
   "metadata": {},
   "outputs": [],
   "source": [
    "r_squared_ridge = r2_score(y_test, y_pred_ridge)\n",
    "print(\"The R-squared for Ridge Regression is\", r_squared_ridge)"
   ]
  },
  {
   "cell_type": "code",
   "execution_count": null,
   "id": "3ad40f69-eb40-40f7-ad0d-3ed27b3c3567",
   "metadata": {},
   "outputs": [],
   "source": [
    "mae_ridge = mean_absolute_error(y_test, y_pred_ridge)\n",
    "print(\"The MAE for Ridge Regression is\", mae_ridge)"
   ]
  },
  {
   "cell_type": "code",
   "execution_count": null,
   "id": "4930baf6-8068-4e95-a62d-19e798324289",
   "metadata": {},
   "outputs": [],
   "source": [
    "rmse_ridge = np.sqrt(mean_squared_error(y_test, y_pred_ridge))\n",
    "print(\"The RMSE for Ridge Regression is\", rmse_ridge)"
   ]
  },
  {
   "cell_type": "markdown",
   "id": "dcb30b02-c639-4899-a733-b8b0c508e884",
   "metadata": {},
   "source": [
    "From evaluating the performance of both models, it seems that both Linear Regression and Ridge Regression perform the same when applied to this dataset. As Linear Regression appears to perform ever so slightly better in terms of $R^2$ as well as RMSE, I would propose using Linear Regression over Ridge Regression."
   ]
  },
  {
   "cell_type": "code",
   "execution_count": null,
   "id": "b1622cfa-a2c0-41c5-a989-46dc86c2bfa1",
   "metadata": {},
   "outputs": [],
   "source": [
    "reg.coef_"
   ]
  },
  {
   "cell_type": "code",
   "execution_count": null,
   "id": "b450c972-f45a-49f1-a641-f27757aad7ef",
   "metadata": {},
   "outputs": [],
   "source": [
    "reg.intercept_"
   ]
  },
  {
   "cell_type": "markdown",
   "id": "e1ccc769-ccaf-4905-93aa-dfee81d043ed",
   "metadata": {},
   "source": [
    "The final Linear Regression equation after standardizing the data would be $y = 0.00028 + 0.61533x_1 - 0.03134x_2 + 0.11015x_3 + 0.00492x_4 - 0.03134x_5 - 0.01740x_6 + 0.03902x_7 - 0.02434x_8 + 0.49721x_9 + 0.05925x_{10} + 0.00925x_{11}$."
   ]
  },
  {
   "cell_type": "markdown",
   "id": "c24c103c-1026-43b0-be43-9bde3db18ea6",
   "metadata": {},
   "source": [
    "# Discussion\n",
    "\n",
    "Overall, the model's $R^2$ is relatively low and MAE/RMSE relatively high, so I do not believe that it completely accurately predicts housing price in India. The limitation exists in the assumption that there are linear relationships for each of the independent variables with the dependent when in fact there may not be."
   ]
  },
  {
   "cell_type": "markdown",
   "id": "d749e0db-c62e-498a-b657-f2821798e281",
   "metadata": {},
   "source": [
    "# Conclusion\n",
    "\n",
    "After cleaning, encoding, and standardizing the data, we conclude that out of the two regression methods used, Linear Regression is slightly more effective as a regression model for the dataset. However, the relatively low $R^2$ value suggests that the model does not fit the dataset very well. Perhaps in order to fit a better model, more advanced methods can be used, such as Random Forest."
   ]
  },
  {
   "cell_type": "markdown",
   "id": "187f517a-a30b-44c0-8ff4-03b0f73fec84",
   "metadata": {},
   "source": [
    "# References\n",
    "\n",
    "Galarnyk, M. (2020, October 15). Effective machine learning with scikit-learn - scikit-learn video tutorial: Linkedin learning, formerly Lynda.com. LinkedIn. https://www.linkedin.com/learning/machine-learning-with-scikit-learn/effective-machine-learning-with-scikit-learn?u=279222306 \n",
    "\n",
    "Itauma, I. (n.d.). 2  Chapter 2: Supervised learning - regression. Machine Learning using Python - 2  Chapter 2: Supervised Learning - Regression. https://amightyo.quarto.pub/machine-learning-using-python/Chapter_2.html "
   ]
  }
 ],
 "metadata": {
  "authors": [
   {
    "name": "Long Lin"
   }
  ],
  "kernelspec": {
   "display_name": "Python 3 (ipykernel)",
   "language": "python",
   "name": "python3"
  },
  "language_info": {
   "codemirror_mode": {
    "name": "ipython",
    "version": 3
   },
   "file_extension": ".py",
   "mimetype": "text/x-python",
   "name": "python",
   "nbconvert_exporter": "python",
   "pygments_lexer": "ipython3",
   "version": "3.12.4"
  },
  "title": "MGT 665 Lab 1"
 },
 "nbformat": 4,
 "nbformat_minor": 5
}
